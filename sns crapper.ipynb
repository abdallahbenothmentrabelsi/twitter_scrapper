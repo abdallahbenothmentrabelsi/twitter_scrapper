{
 "cells": [
  {
   "cell_type": "code",
   "execution_count": null,
   "metadata": {},
   "outputs": [],
   "source": [
    "pip install snscrape"
   ]
  },
  {
   "cell_type": "code",
   "execution_count": 2,
   "metadata": {},
   "outputs": [],
   "source": [
    "import pandas as pd\n",
    "from tqdm.notebook import tqdm\n",
    "import snscrape.modules.twitter as sntwitter"
   ]
  },
  {
   "cell_type": "code",
   "execution_count": 3,
   "metadata": {},
   "outputs": [],
   "source": [
    "scrapper = sntwitter.TwitterSearchScraper(\"#harassment\")"
   ]
  },
  {
   "cell_type": "code",
   "execution_count": 4,
   "metadata": {},
   "outputs": [
    {
     "data": {
      "text/plain": [
       "<snscrape.modules.twitter.TwitterSearchScraper at 0x222e650b280>"
      ]
     },
     "execution_count": 4,
     "metadata": {},
     "output_type": "execute_result"
    }
   ],
   "source": [
    "scrapper"
   ]
  },
  {
   "cell_type": "code",
   "execution_count": 5,
   "metadata": {},
   "outputs": [],
   "source": [
    "for tweet in scrapper.get_items():\n",
    "    break"
   ]
  },
  {
   "cell_type": "code",
   "execution_count": 7,
   "metadata": {},
   "outputs": [
    {
     "name": "stdout",
     "output_type": "stream",
     "text": [
      "https://twitter.com/KarenKerrKnows/status/1626605825102909442\n"
     ]
    }
   ],
   "source": [
    "print(tweet)"
   ]
  },
  {
   "cell_type": "code",
   "execution_count": 8,
   "metadata": {},
   "outputs": [
    {
     "data": {
      "text/plain": [
       "snscrape.modules.twitter.Tweet"
      ]
     },
     "execution_count": 8,
     "metadata": {},
     "output_type": "execute_result"
    }
   ],
   "source": [
    "type(tweet)"
   ]
  },
  {
   "cell_type": "code",
   "execution_count": 9,
   "metadata": {},
   "outputs": [
    {
     "data": {
      "text/plain": [
       "datetime.datetime(2023, 2, 17, 15, 33, 44, tzinfo=datetime.timezone.utc)"
      ]
     },
     "execution_count": 9,
     "metadata": {},
     "output_type": "execute_result"
    }
   ],
   "source": [
    "tweet.date"
   ]
  },
  {
   "cell_type": "code",
   "execution_count": 10,
   "metadata": {},
   "outputs": [
    {
     "name": "stderr",
     "output_type": "stream",
     "text": [
      "C:\\Users\\zbook studio g7\\AppData\\Local\\Temp\\ipykernel_29764\\1749733592.py:8: FutureWarning: content is deprecated, use rawContent instead\n",
      "  tweet.content,\n"
     ]
    }
   ],
   "source": [
    "scrapper = sntwitter.TwitterSearchScraper(\"#harassment\")\n",
    "tweets = []\n",
    "n_tweets = 1_00\n",
    "for i,tweet in enumerate (scrapper.get_items()):\n",
    "\tdata = [\n",
    "\t\ttweet.date,\n",
    "\t    tweet.id,\n",
    "\t    tweet.content,\n",
    "\t    tweet.user.username,\n",
    "\t    tweet.likeCount,\n",
    "\t    tweet.retweetCount,\n",
    "\t\t\n",
    "\t]\n",
    "\ttweets.append(data)\n",
    "\tif i > n_tweets:\n",
    "\t\tbreak\n",
    "\n",
    "\n"
   ]
  },
  {
   "cell_type": "code",
   "execution_count": 11,
   "metadata": {},
   "outputs": [
    {
     "data": {
      "text/html": [
       "<div>\n",
       "<style scoped>\n",
       "    .dataframe tbody tr th:only-of-type {\n",
       "        vertical-align: middle;\n",
       "    }\n",
       "\n",
       "    .dataframe tbody tr th {\n",
       "        vertical-align: top;\n",
       "    }\n",
       "\n",
       "    .dataframe thead th {\n",
       "        text-align: right;\n",
       "    }\n",
       "</style>\n",
       "<table border=\"1\" class=\"dataframe\">\n",
       "  <thead>\n",
       "    <tr style=\"text-align: right;\">\n",
       "      <th></th>\n",
       "      <th>Date</th>\n",
       "      <th>id</th>\n",
       "      <th>Content</th>\n",
       "      <th>Username</th>\n",
       "      <th>Like_count</th>\n",
       "      <th>Retweet_count</th>\n",
       "    </tr>\n",
       "  </thead>\n",
       "  <tbody>\n",
       "    <tr>\n",
       "      <th>0</th>\n",
       "      <td>2023-02-17 15:33:44+00:00</td>\n",
       "      <td>1626605825102909442</td>\n",
       "      <td>@Jessicafrndz Omg, how did you survive that aw...</td>\n",
       "      <td>KarenKerrKnows</td>\n",
       "      <td>0</td>\n",
       "      <td>0</td>\n",
       "    </tr>\n",
       "    <tr>\n",
       "      <th>1</th>\n",
       "      <td>2023-02-17 15:30:44+00:00</td>\n",
       "      <td>1626605071759822850</td>\n",
       "      <td>Just curious what would happen to the #chess w...</td>\n",
       "      <td>SChevannes</td>\n",
       "      <td>4</td>\n",
       "      <td>0</td>\n",
       "    </tr>\n",
       "    <tr>\n",
       "      <th>2</th>\n",
       "      <td>2023-02-17 15:06:24+00:00</td>\n",
       "      <td>1626598948667559944</td>\n",
       "      <td>@AmazonHelp Scroll up and you will see that I’...</td>\n",
       "      <td>bhargavtweets</td>\n",
       "      <td>0</td>\n",
       "      <td>0</td>\n",
       "    </tr>\n",
       "    <tr>\n",
       "      <th>3</th>\n",
       "      <td>2023-02-17 14:35:53+00:00</td>\n",
       "      <td>1626591268473294849</td>\n",
       "      <td>@cryptodrftng @aprilsparkles1 @JParker_tw @Bri...</td>\n",
       "      <td>Leliapasika</td>\n",
       "      <td>0</td>\n",
       "      <td>0</td>\n",
       "    </tr>\n",
       "    <tr>\n",
       "      <th>4</th>\n",
       "      <td>2023-02-17 14:25:07+00:00</td>\n",
       "      <td>1626588557157761026</td>\n",
       "      <td>STAY AWARE STAY SAFE\\n\\n#cyberbullying  #stopb...</td>\n",
       "      <td>syedabbastrimz1</td>\n",
       "      <td>0</td>\n",
       "      <td>0</td>\n",
       "    </tr>\n",
       "    <tr>\n",
       "      <th>...</th>\n",
       "      <td>...</td>\n",
       "      <td>...</td>\n",
       "      <td>...</td>\n",
       "      <td>...</td>\n",
       "      <td>...</td>\n",
       "      <td>...</td>\n",
       "    </tr>\n",
       "    <tr>\n",
       "      <th>97</th>\n",
       "      <td>2023-02-16 03:22:01+00:00</td>\n",
       "      <td>1626059296244142080</td>\n",
       "      <td>@laura199007 Da todo el rt que quieras, nada m...</td>\n",
       "      <td>Scarbo__</td>\n",
       "      <td>0</td>\n",
       "      <td>0</td>\n",
       "    </tr>\n",
       "    <tr>\n",
       "      <th>98</th>\n",
       "      <td>2023-02-16 02:44:42+00:00</td>\n",
       "      <td>1626049905180696577</td>\n",
       "      <td>இளம் பெண்கள் பாலியல் வன்கொடுமை.! மர்மமான முறைய...</td>\n",
       "      <td>AsianetNewsTM</td>\n",
       "      <td>3</td>\n",
       "      <td>0</td>\n",
       "    </tr>\n",
       "    <tr>\n",
       "      <th>99</th>\n",
       "      <td>2023-02-16 02:12:49+00:00</td>\n",
       "      <td>1626041881997058049</td>\n",
       "      <td>In 2017 my family were intimidated &amp;amp; false...</td>\n",
       "      <td>h_we_go_again</td>\n",
       "      <td>0</td>\n",
       "      <td>0</td>\n",
       "    </tr>\n",
       "    <tr>\n",
       "      <th>100</th>\n",
       "      <td>2023-02-16 01:44:27+00:00</td>\n",
       "      <td>1626034741290979328</td>\n",
       "      <td>🎤 PODCAST\\nCoworker Issues\\nI'm ostracized by ...</td>\n",
       "      <td>DrEllenK</td>\n",
       "      <td>1</td>\n",
       "      <td>0</td>\n",
       "    </tr>\n",
       "    <tr>\n",
       "      <th>101</th>\n",
       "      <td>2023-02-15 21:10:54+00:00</td>\n",
       "      <td>1625965902662434818</td>\n",
       "      <td>🎙️🎙️PODCAST - Episode #128. Interview with Jes...</td>\n",
       "      <td>FlettShelley</td>\n",
       "      <td>0</td>\n",
       "      <td>0</td>\n",
       "    </tr>\n",
       "  </tbody>\n",
       "</table>\n",
       "<p>102 rows × 6 columns</p>\n",
       "</div>"
      ],
      "text/plain": [
       "                         Date                   id  \\\n",
       "0   2023-02-17 15:33:44+00:00  1626605825102909442   \n",
       "1   2023-02-17 15:30:44+00:00  1626605071759822850   \n",
       "2   2023-02-17 15:06:24+00:00  1626598948667559944   \n",
       "3   2023-02-17 14:35:53+00:00  1626591268473294849   \n",
       "4   2023-02-17 14:25:07+00:00  1626588557157761026   \n",
       "..                        ...                  ...   \n",
       "97  2023-02-16 03:22:01+00:00  1626059296244142080   \n",
       "98  2023-02-16 02:44:42+00:00  1626049905180696577   \n",
       "99  2023-02-16 02:12:49+00:00  1626041881997058049   \n",
       "100 2023-02-16 01:44:27+00:00  1626034741290979328   \n",
       "101 2023-02-15 21:10:54+00:00  1625965902662434818   \n",
       "\n",
       "                                               Content         Username  \\\n",
       "0    @Jessicafrndz Omg, how did you survive that aw...   KarenKerrKnows   \n",
       "1    Just curious what would happen to the #chess w...       SChevannes   \n",
       "2    @AmazonHelp Scroll up and you will see that I’...    bhargavtweets   \n",
       "3    @cryptodrftng @aprilsparkles1 @JParker_tw @Bri...      Leliapasika   \n",
       "4    STAY AWARE STAY SAFE\\n\\n#cyberbullying  #stopb...  syedabbastrimz1   \n",
       "..                                                 ...              ...   \n",
       "97   @laura199007 Da todo el rt que quieras, nada m...         Scarbo__   \n",
       "98   இளம் பெண்கள் பாலியல் வன்கொடுமை.! மர்மமான முறைய...    AsianetNewsTM   \n",
       "99   In 2017 my family were intimidated &amp; false...    h_we_go_again   \n",
       "100  🎤 PODCAST\\nCoworker Issues\\nI'm ostracized by ...         DrEllenK   \n",
       "101  🎙️🎙️PODCAST - Episode #128. Interview with Jes...     FlettShelley   \n",
       "\n",
       "     Like_count  Retweet_count  \n",
       "0             0              0  \n",
       "1             4              0  \n",
       "2             0              0  \n",
       "3             0              0  \n",
       "4             0              0  \n",
       "..          ...            ...  \n",
       "97            0              0  \n",
       "98            3              0  \n",
       "99            0              0  \n",
       "100           1              0  \n",
       "101           0              0  \n",
       "\n",
       "[102 rows x 6 columns]"
      ]
     },
     "execution_count": 11,
     "metadata": {},
     "output_type": "execute_result"
    }
   ],
   "source": [
    "# list(tweets)\n",
    "tweet_df=pd.DataFrame(tweets, columns=['Date','id','Content','Username','Like_count','Retweet_count'])\n",
    "tweet_df"
   ]
  },
  {
   "cell_type": "code",
   "execution_count": 12,
   "metadata": {},
   "outputs": [
    {
     "data": {
      "text/plain": [
       "'🎙️🎙️PODCAST - Episode #128. Interview with Jessica Hickman on bullying and the bystander effect. https://t.co/N8pzbaQkLK\\n\\n#podcast #shelleyflett #dynamicleadership #bullying #harassment #bystander #leadership https://t.co/bRA0CZtgTW'"
      ]
     },
     "execution_count": 12,
     "metadata": {},
     "output_type": "execute_result"
    }
   ],
   "source": [
    "df = pd.read_csv('harassment.csv')\n",
    "tweets = df.content\n",
    "\n",
    "tweet.rawContent"
   ]
  },
  {
   "cell_type": "code",
   "execution_count": null,
   "metadata": {},
   "outputs": [],
   "source": [
    "tweet_df.to_csv(\"harassment1000.csv\",index=False)"
   ]
  },
  {
   "cell_type": "code",
   "execution_count": null,
   "metadata": {},
   "outputs": [],
   "source": [
    "for i in range(len(tweet_df)):\n",
    "    tweet_id = tweet_df.id[i]\n",
    "    comments = []\n",
    "    sntwitter.t\n",
    "    for comment in sntwitter.TwitterCommentScraper(tweet_id).get_items():\n",
    "        comments.append(comment)"
   ]
  },
  {
   "cell_type": "code",
   "execution_count": null,
   "metadata": {},
   "outputs": [],
   "source": [
    "tweet_df=pd.DataFrame(tweets, columns=['Date','id','Content','Username','Like_count','Retweet_count'])\n",
    "tweet_df\n",
    "comments = []\n",
    "for tweet in tweet_df.iterrows():\n",
    "    tweet_id = int(tweet[id])\n",
    "    for comment in sntwitter.TwitterCommentScraper(tweet_id).get_items():\n",
    "        comments.append(comment)\n"
   ]
  },
  {
   "cell_type": "code",
   "execution_count": null,
   "metadata": {},
   "outputs": [],
   "source": [
    "tweet_df=pd.DataFrame(tweets, columns=['Date','id','Content','Username','Like_count','Retweet_count'])\n",
    "\n",
    "df = pd.DataFrame(columns=['tweet_id', 'comment_id', 'username', 'date', 'content'])\n",
    "for tweet in tweets:\n",
    "    tweet_id = tweet.id\n",
    "    for comment in sntwitter.TwitterCommentScraper(tweet_id).get_items():\n",
    "        df = df.append({'tweet_id': tweet_id,\n",
    "                        'comment_id': comment.id,\n",
    "                        'username': comment.user.username,\n",
    "                        'date': comment.date,\n",
    "                        'content': comment.content},\n",
    "                       ignore_index=True)\n"
   ]
  },
  {
   "cell_type": "code",
   "execution_count": 78,
   "metadata": {},
   "outputs": [],
   "source": [
    "tweet_df.to_csv(\"harassment1000.csv\",index=False)"
   ]
  }
 ],
 "metadata": {
  "kernelspec": {
   "display_name": "Python 3",
   "language": "python",
   "name": "python3"
  },
  "language_info": {
   "codemirror_mode": {
    "name": "ipython",
    "version": 3
   },
   "file_extension": ".py",
   "mimetype": "text/x-python",
   "name": "python",
   "nbconvert_exporter": "python",
   "pygments_lexer": "ipython3",
   "version": "3.9.2"
  },
  "orig_nbformat": 4,
  "vscode": {
   "interpreter": {
    "hash": "72dd8fa98c0699a351b92e9cc041ddb6d8b61bf8b56919f7ed75d959be34eecd"
   }
  }
 },
 "nbformat": 4,
 "nbformat_minor": 2
}
